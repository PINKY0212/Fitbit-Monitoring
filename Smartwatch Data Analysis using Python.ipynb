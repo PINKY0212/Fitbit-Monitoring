{
 "cells": [
  {
   "cell_type": "code",
   "execution_count": null,
   "metadata": {},
   "outputs": [],
   "source": [
    "# Download the data from this link\n",
    "# https://www.kaggle.com/datasets/arashnic/fitbit\n",
    "import pandas as pd\n",
    "import numpy as np\n",
    "import matplotlib.pyplot as plt\n",
    "import plotly.express as px\n",
    "import plotly.graph_objects as go\n",
    "data = pd.read_csv('dailyActivity_merged.csv')\n",
    "print(data.head())\n",
    "print(data.isnull().sum())\n",
    "print(data.info()"
   ]
  },
  {
   "cell_type": "code",
   "execution_count": null,
   "metadata": {},
   "outputs": [],
   "source": [
    "# Changing datatype of ActivityDate\n",
    "data[\"ActivityDate\"] = pd.to_datetime(data[\"ActivityDate\"], \n",
    "                                      format=\"%m/%d/%Y\")\n",
    "print(data.info())"
   ]
  },
  {
   "cell_type": "code",
   "execution_count": null,
   "metadata": {},
   "outputs": [],
   "source": [
    "data[\"TotalMinutes\"] = data[\"VeryActiveMinutes\"] + data[\"FairlyActiveMinutes\"] + data[\"LightlyActiveMinutes\"] + data[\"SedentaryMinutes\"]\n",
    "print(data[\"TotalMinutes\"].sample(5))"
   ]
  },
  {
   "cell_type": "code",
   "execution_count": null,
   "metadata": {},
   "outputs": [],
   "source": [
    "print(data.describe())"
   ]
  },
  {
   "cell_type": "code",
   "execution_count": null,
   "metadata": {},
   "outputs": [],
   "source": [
    "figure = px.scatter(data_frame = data, x=\"Calories\",\n",
    "                    y=\"TotalSteps\", size=\"VeryActiveMinutes\", \n",
    "                    trendline=\"ols\", \n",
    "                    title=\"Relationship between Calories & Total Steps\")\n",
    "figure.show()"
   ]
  },
  {
   "cell_type": "code",
   "execution_count": null,
   "metadata": {},
   "outputs": [],
   "source": [
    "label = [\"Very Active Minutes\", \"Fairly Active Minutes\", \n",
    "         \"Lightly Active Minutes\", \"Inactive Minutes\"]\n",
    "counts = data[[\"VeryActiveMinutes\", \"FairlyActiveMinutes\", \n",
    "               \"LightlyActiveMinutes\", \"SedentaryMinutes\"]].mean()\n",
    "colors = ['gold','lightgreen', \"pink\", \"blue\"]\n",
    "\n",
    "fig = go.Figure(data=[go.Pie(labels=label, values=counts)])\n",
    "fig.update_layout(title_text='Total Active Minutes')\n",
    "fig.update_traces(hoverinfo='label+percent', textinfo='value', textfont_size=30,\n",
    "                  marker=dict(colors=colors, line=dict(color='black', width=3)))\n",
    "fig.show()"
   ]
  },
  {
   "cell_type": "code",
   "execution_count": null,
   "metadata": {},
   "outputs": [],
   "source": [
    "data[\"Day\"] = data[\"ActivityDate\"].dt.day_name()\n",
    "print(data[\"Day\"].head())"
   ]
  },
  {
   "cell_type": "code",
   "execution_count": null,
   "metadata": {},
   "outputs": [],
   "source": [
    "fig = go.Figure()\n",
    "fig.add_trace(go.Bar(\n",
    "    x=data[\"Day\"],\n",
    "    y=data[\"VeryActiveMinutes\"],\n",
    "    name='Very Active',\n",
    "    marker_color='purple'))\n",
    "fig.add_trace(go.Bar(\n",
    "    x=data[\"Day\"],\n",
    "    y=data[\"FairlyActiveMinutes\"],\n",
    "    name='Fairly Active',\n",
    "    marker_color='green'))\n",
    "fig.add_trace(go.Bar(\n",
    "    x=data[\"Day\"],\n",
    "    y=data[\"LightlyActiveMinutes\"],\n",
    "    name='Lightly Active',\n",
    "    marker_color='pink'))\n",
    "fig.update_layout(barmode='group', xaxis_tickangle=-45)\n",
    "fig.show()"
   ]
  },
  {
   "cell_type": "code",
   "execution_count": null,
   "metadata": {},
   "outputs": [],
   "source": [
    "day = data[\"Day\"].value_counts()\n",
    "label = day.index\n",
    "counts = data[\"SedentaryMinutes\"]\n",
    "colors = ['gold','lightgreen', \"pink\", \"blue\", \"skyblue\", \"cyan\", \"orange\"]\n",
    "\n",
    "fig = go.Figure(data=[go.Pie(labels=label, values=counts)])\n",
    "fig.update_layout(title_text='Inactive Minutes Daily')\n",
    "fig.update_traces(hoverinfo='label+percent', textinfo='value', textfont_size=30,\n",
    "                  marker=dict(colors=colors, line=dict(color='black', width=3)))\n",
    "fig.show()"
   ]
  },
  {
   "cell_type": "code",
   "execution_count": null,
   "metadata": {},
   "outputs": [],
   "source": [
    "calories = data[\"Day\"].value_counts()\n",
    "label = calories.index\n",
    "counts = data[\"Calories\"]\n",
    "colors = ['gold','lightgreen', \"pink\", \"blue\", \"skyblue\", \"cyan\", \"orange\"]\n",
    "\n",
    "fig = go.Figure(data=[go.Pie(labels=label, values=counts)])\n",
    "fig.update_layout(title_text='Calories Burned Daily')\n",
    "fig.update_traces(hoverinfo='label+percent', textinfo='value', textfont_size=30,\n",
    "                  marker=dict(colors=colors, line=dict(color='black', width=3)))\n",
    "fig.show()"
   ]
  }
 ],
 "metadata": {
  "kernelspec": {
   "display_name": "Python 3 (ipykernel)",
   "language": "python",
   "name": "python3"
  },
  "language_info": {
   "codemirror_mode": {
    "name": "ipython",
    "version": 3
   },
   "file_extension": ".py",
   "mimetype": "text/x-python",
   "name": "python",
   "nbconvert_exporter": "python",
   "pygments_lexer": "ipython3",
   "version": "3.9.7"
  }
 },
 "nbformat": 4,
 "nbformat_minor": 4
}
